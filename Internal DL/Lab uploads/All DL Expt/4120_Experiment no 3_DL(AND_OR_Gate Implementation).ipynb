{
 "cells": [
  {
   "cell_type": "markdown",
   "metadata": {
    "id": "GA73Hy-NPZeX"
   },
   "source": [
    "#### AND GATE"
   ]
  },
  {
   "cell_type": "code",
   "execution_count": 1,
   "metadata": {
    "colab": {
     "base_uri": "https://localhost:8080/"
    },
    "id": "lIVSYxTLHEYY",
    "outputId": "d46ac9c2-946c-49d6-8730-174cb018400e"
   },
   "outputs": [
    {
     "name": "stdout",
     "output_type": "stream",
     "text": [
      "Trained weights: [0.7 0.6]\n",
      "AND(0, 0) = 0\n",
      "AND(0, 1) = 0\n",
      "AND(1, 0) = 0\n",
      "AND(1, 1) = 1\n",
      "2\n"
     ]
    }
   ],
   "source": [
    "import numpy as np\n",
    "\n",
    "def andgate(x, weights, th):\n",
    "    weightsum = np.dot(x, weights)\n",
    "    output = 1 if weightsum >= th else 0\n",
    "    return output\n",
    "\n",
    "# Given weights and threshold\n",
    "weights = np.array([1.2,0.6])\n",
    "th = 1\n",
    "\n",
    "# Training data\n",
    "inputs = np.array([[0, 0], [0, 1], [1, 0], [1, 1]])\n",
    "labels = np.array([0, 0, 0, 1])\n",
    "\n",
    "# Training the AND gate\n",
    "learnrate = 0.5\n",
    "\n",
    "total_error = True\n",
    "c=0\n",
    "while total_error != 0:\n",
    "    total_error = 0\n",
    "\n",
    "\n",
    "    for i in range(len(inputs)):\n",
    "        x = inputs[i]\n",
    "        target = labels[i]\n",
    "\n",
    "        output = andgate(x, weights, th)\n",
    "        error = target - output\n",
    "\n",
    "        weights += learnrate * error * x\n",
    "        total_error += abs(error)\n",
    "    c+=1\n",
    "\n",
    "print(\"Trained weights:\", weights)\n",
    "\n",
    "# Testing the trained AND gate\n",
    "for i in range(len(inputs)):\n",
    "    x = inputs[i]\n",
    "    prediction = andgate(x, weights, th)\n",
    "    print(f\"AND({x[0]}, {x[1]}) = {prediction}\")\n",
    "print(c)\n"
   ]
  },
  {
   "cell_type": "markdown",
   "metadata": {
    "id": "zuQmkU_ZPdVV"
   },
   "source": [
    "#### OR GATE"
   ]
  },
  {
   "cell_type": "code",
   "execution_count": 2,
   "metadata": {
    "colab": {
     "base_uri": "https://localhost:8080/"
    },
    "id": "ckUK1mrBPeVl",
    "outputId": "d24f6c89-0eb7-4d2a-8254-6642795b2b1c"
   },
   "outputs": [
    {
     "name": "stdout",
     "output_type": "stream",
     "text": [
      "Trained weights: [1.1 1.1]\n",
      "OR(0, 0) = 0\n",
      "OR(0, 1) = 1\n",
      "OR(1, 0) = 1\n",
      "OR(1, 1) = 1\n"
     ]
    }
   ],
   "source": [
    "import numpy as np\n",
    "\n",
    "def OR_gate(x, weights, threshold):\n",
    "    weighted_sum = np.dot(x, weights)\n",
    "    output = 1 if weighted_sum >= threshold else 0\n",
    "    return output\n",
    "\n",
    "# Given weights and threshold\n",
    "weights = np.array([0.6,0.6])\n",
    "threshold = 1\n",
    "\n",
    "# Training data\n",
    "inputs = np.array([[0, 0], [0, 1], [1, 0], [1, 1]])\n",
    "labels = np.array([0, 1, 1, 1])\n",
    "\n",
    "# Training the AND gate\n",
    "learning_rate = 0.5\n",
    "\n",
    "total_error = 1\n",
    "\n",
    "while total_error != 0:\n",
    "    total_error = 0\n",
    "\n",
    "    for i in range(len(inputs)):\n",
    "        x = inputs[i]\n",
    "        target = labels[i]\n",
    "\n",
    "        output = AND_gate(x, weights, threshold)\n",
    "        error = target - output\n",
    "\n",
    "        weights += learning_rate * error * x\n",
    "        total_error += abs(error)\n",
    "\n",
    "print(\"Trained weights:\", weights)\n",
    "\n",
    "# Testing the trained AND gate\n",
    "for i in range(len(inputs)):\n",
    "    x = inputs[i]\n",
    "    prediction = OR_gate(x, weights, threshold)\n",
    "    print(f\"OR({x[0]}, {x[1]}) = {prediction}\")\n"
   ]
  },
  {
   "cell_type": "code",
   "execution_count": null,
   "metadata": {
    "id": "YY5Lp0bhPn7D"
   },
   "outputs": [],
   "source": []
  }
 ],
 "metadata": {
  "colab": {
   "provenance": []
  },
  "kernelspec": {
   "display_name": "Python 3 (ipykernel)",
   "language": "python",
   "name": "python3"
  },
  "language_info": {
   "codemirror_mode": {
    "name": "ipython",
    "version": 3
   },
   "file_extension": ".py",
   "mimetype": "text/x-python",
   "name": "python",
   "nbconvert_exporter": "python",
   "pygments_lexer": "ipython3",
   "version": "3.9.13"
  }
 },
 "nbformat": 4,
 "nbformat_minor": 1
}
